{
 "cells": [
  {
   "cell_type": "markdown",
   "id": "793197e1",
   "metadata": {},
   "source": [
    "<br>\n",
    "<b><font size=\"6\">Knowlege graphs based RAG testing</font></b>\n",
    "<br><br>\n",
    "<font size=\"3\">Date: 2024.07.02.</font><br>\n",
    "<font size=\"3\">Author: Petkovics Tamás <<a href=\"mailto:petkow@gmail.com\">petkow@gmail.com</a>></font>"
   ]
  },
  {
   "cell_type": "markdown",
   "id": "b2fd472c",
   "metadata": {},
   "source": [
    "\n",
    "# Introduction<br>\n",
    "\n",
    "<font size=\"4\">\n",
    "    \n",
    "**Business Problem**<br> \n",
    "Utilizing raw, unstructured financial news data to derive financially meaningful, accurate, and consistent signals for quantitative investors is challenging.\n",
    "\n",
    "\n",
    "**Business Question**<br> \n",
    "How can we systematically process and extract accurate knowledge from unstructured financial news data?\n",
    "\n",
    "\n",
    "**Proposal**<br> \n",
    "Employ fine-tuned Large Language Models (LLMs) augmented with curated knowledge from Knowledge Graphs to accurately interpret, consistently analyze, and transform raw news data into a structured format with substantial market value.\n",
    "</font>\n",
    "\n",
    "## Knowledge Graphs as source for Retrieval-Augmented Generation (RAG)<br> \n",
    "<font size=\"4\">  \n",
    "Constructing knowledge graphs with LLMs is well-explored, but leveraging them effectively is less common. It is beneficial to construct knowledge graphs primarily from factual, curated, and structured data, which LLMs and laypersons often lack when interpreting news. Knowledge graphs can utilize ontologies and symbolic reasoning to complement the stochastic nature of LLMs with logic-based rules and implicit knowledge, enhancing consistency and accuracy.\n",
    "</font>\n",
    "\n",
    "![Image](image3.png)\n",
    "\n",
    "## Knowledge Graph Implementations (High-Level Architectural Considerations)<br> \n",
    "<font size=\"4\">\n",
    "    \n",
    "The choice of implementation has significant implications for capabilities, particularly in terms of symbolic reasoning and data exchange. There are two main frameworks:\n",
    "</font>\n",
    "\n",
    "### Semantic Web (W3C), RDF, and OWL<br>  \n",
    "<font size=\"4\">\n",
    "    \n",
    "**Pros:**\n",
    "- Supports symbolic reasoning and inter-organizational data exchange\n",
    "- Based on open specifications, avoiding vendor lock-in\n",
    "\n",
    "**Cons:**\n",
    "- Less efficient implementations\n",
    "- Rigid, with many constraints due to specifications\n",
    "- Steeper learning curve\n",
    "</font>\n",
    "\n",
    "### Labeled Property Graphs (e.g., Neo4J)<br>  \n",
    "<font size=\"4\">    \n",
    "\n",
    "**Pros:**\n",
    "- Efficient, quick, and flexible\n",
    "- Easier to learn\n",
    "\n",
    "**Cons:**\n",
    "- Lacks standards, leading to vendor lock-in\n",
    "- Does not support symbolic reasoning and federated data exchange\n",
    "</font>\n",
    "\n",
    "***\n",
    "**Semantic web stack:**\n",
    "![Semantic Web Stack](sws.png)\n",
    "\n",
    "![Ontology](onto.svg)\n",
    "\n",
    "## Showcasing a Small-Scale RAG Application with Agentic Designs<br> \n",
    "<font size=\"4\">  \n",
    "This section demonstrates the practical application of a small-scale Retrieval-Augmented Generation system using agentic designs.\n",
    "</font>\n",
    "\n",
    "![Image](image4.png)"
   ]
  },
  {
   "cell_type": "markdown",
   "id": "08dea98f",
   "metadata": {},
   "source": [
    "# Some code"
   ]
  },
  {
   "cell_type": "code",
   "execution_count": 1,
   "id": "8a3993de",
   "metadata": {},
   "outputs": [],
   "source": [
    "# Claude\n",
    "import anthropic\n",
    "from tenacity import retry, stop_after_attempt, wait_random_exponential\n",
    "\n",
    "# Neo4J\n",
    "from py2neo import Graph\n",
    "\n",
    "# RDF\n",
    "from rdflib import Graph as RDFGraph\n",
    "from rdflib.plugins.stores.sparqlstore import SPARQLStore"
   ]
  },
  {
   "cell_type": "markdown",
   "id": "e6ebd4da",
   "metadata": {},
   "source": [
    "# RAG components"
   ]
  },
  {
   "cell_type": "markdown",
   "id": "40c587a2",
   "metadata": {},
   "source": [
    "## RDF"
   ]
  },
  {
   "cell_type": "code",
   "execution_count": 2,
   "id": "167cd39c",
   "metadata": {
    "scrolled": true
   },
   "outputs": [],
   "source": [
    "fuseki_store = SPARQLStore(\"http://fuseki:3030/ds\")\n",
    "rdf_graph = RDFGraph(store=fuseki_store)"
   ]
  },
  {
   "cell_type": "code",
   "execution_count": 3,
   "id": "b34aba23",
   "metadata": {},
   "outputs": [],
   "source": [
    "def generate_search_query_rdf(search_strings):\n",
    "    \n",
    "    if isinstance(search_strings, list):\n",
    "        regex_pattern = '|'.join(search_strings)\n",
    "    else:\n",
    "        regex_pattern = search_strings\n",
    "    \n",
    "    sparql_template = \"\"\"\n",
    "        PREFIX xsd: <http://www.w3.org/2001/XMLSchema#>\n",
    "        PREFIX owl: <http://www.w3.org/2002/07/owl#>\n",
    "        PREFIX rdf: <http://www.w3.org/1999/02/22-rdf-syntax-ns#>\n",
    "        PREFIX rdfs: <http://www.w3.org/2000/01/rdf-schema#>\n",
    "        DESCRIBE ?subject ?obj1 ?obj2 WHERE {{\n",
    "\n",
    "            ?subject rdfs:label ?label .\n",
    "            ?subject a owl:NamedIndividual .\n",
    "            \n",
    "            FILTER(REGEX(STR(?label), \"{regex_pattern}\", \"i\"))\n",
    "            \n",
    "             OPTIONAL {{\n",
    "                 ?subject ?p ?obj1 .\n",
    "                 ?obj1 a owl:NamedIndividual .\n",
    "                 \n",
    "                       OPTIONAL {{\n",
    "                         ?obj1 ?p2 ?obj2 .\n",
    "                         ?obj2 a owl:NamedIndividual .\n",
    "                       }}\n",
    "                            \n",
    "                 }}\n",
    "\n",
    "                \n",
    "        }}\n",
    "    \"\"\"\n",
    "    return sparql_template.format(regex_pattern=regex_pattern)\n",
    "\n",
    "def rdf_query(search_string):\n",
    "    result = rdf_graph.query(generate_search_query_rdf(search_string))\n",
    "        \n",
    "    return result.serialize(format='ttl', encoding='utf-8').decode('utf-8')"
   ]
  },
  {
   "cell_type": "code",
   "execution_count": 4,
   "id": "3217ba33",
   "metadata": {},
   "outputs": [
    {
     "name": "stdout",
     "output_type": "stream",
     "text": [
      "@prefix : <http://www.example.org/> .\n",
      "@prefix owl: <http://www.w3.org/2002/07/owl#> .\n",
      "@prefix rdfs: <http://www.w3.org/2000/01/rdf-schema#> .\n",
      "\n",
      ":Green_Energy a :Company,\n",
      "        rdfs:Resource,\n",
      "        owl:NamedIndividual,\n",
      "        owl:Thing ;\n",
      "    rdfs:label \"GreenEnergy Holdings LLC\" ;\n",
      "    :EBITDA_YoY_change \"-40%\" ;\n",
      "    :companyEvent :RegulatoryEvent ;\n",
      "    :customerChurnRate \"25%\" ;\n",
      "    owl:sameAs :Green_Energy .\n",
      "\n",
      ":SolarSpark a :Company,\n",
      "        rdfs:Resource,\n",
      "        owl:NamedIndividual,\n",
      "        owl:Thing ;\n",
      "    rdfs:label \"SolarSpark Inc.\" ;\n",
      "    :EBITDA_YoY_change \"-15%\" ;\n",
      "    :debtToEquityRatio \"2.8\" ;\n",
      "    :marketCapitalization \"$300 million\" ;\n",
      "    :recentAcquisitions \"3.5\" ;\n",
      "    :recentLayoffs \"20% of workforce\" ;\n",
      "    owl:sameAs :SolarSpark .\n",
      "\n",
      ":RegulatoryEvent a :Event,\n",
      "        rdfs:Resource,\n",
      "        owl:NamedIndividual,\n",
      "        owl:Thing ;\n",
      "    rdfs:label \"GreenEnergy regulatory event\" ;\n",
      "    rdfs:comment \"GreenEnergy Holdings is facing potential license revocation in two major markets due to alleged fraudulent practices.\" ;\n",
      "    owl:sameAs :RegulatoryEvent .\n",
      "\n",
      "\n"
     ]
    }
   ],
   "source": [
    "# Testing with some keywords\n",
    "print(rdf_query(['SolarSpark', 'GreenEnergy Holdings', 'Jane Doe', 'retail energy services']))"
   ]
  },
  {
   "cell_type": "code",
   "execution_count": 5,
   "id": "4067121a",
   "metadata": {},
   "outputs": [
    {
     "name": "stdout",
     "output_type": "stream",
     "text": [
      "@prefix : <http://www.example.org/> .\n",
      "@prefix owl: <http://www.w3.org/2002/07/owl#> .\n",
      "@prefix rdf: <http://www.w3.org/1999/02/22-rdf-syntax-ns#> .\n",
      "@prefix rdfs: <http://www.w3.org/2000/01/rdf-schema#> .\n",
      "\n",
      "_:N4c1085ebf3404ee08b809eb2a928a8e3 a rdfs:Class,\n",
      "        rdfs:Resource,\n",
      "        owl:Class,\n",
      "        owl:Restriction ;\n",
      "    rdfs:subClassOf _:N4c1085ebf3404ee08b809eb2a928a8e3,\n",
      "        _:Nd7a34725adae49d286baa0b3f9f8eced,\n",
      "        :GrowingIndustry,\n",
      "        :Industry,\n",
      "        rdfs:Resource,\n",
      "        owl:Thing ;\n",
      "    owl:equivalentClass _:N4c1085ebf3404ee08b809eb2a928a8e3,\n",
      "        _:Nd7a34725adae49d286baa0b3f9f8eced,\n",
      "        :GrowingIndustry ;\n",
      "    owl:onProperty :industryExempted ;\n",
      "    owl:someValuesFrom :Regulation .\n",
      "\n",
      "_:Nd7a34725adae49d286baa0b3f9f8eced a rdfs:Class,\n",
      "        rdfs:Resource,\n",
      "        owl:Class ;\n",
      "    rdfs:subClassOf _:N4c1085ebf3404ee08b809eb2a928a8e3,\n",
      "        _:Nd7a34725adae49d286baa0b3f9f8eced,\n",
      "        :GrowingIndustry,\n",
      "        :Industry,\n",
      "        rdfs:Resource,\n",
      "        owl:Thing ;\n",
      "    owl:equivalentClass _:N4c1085ebf3404ee08b809eb2a928a8e3,\n",
      "        _:Nd7a34725adae49d286baa0b3f9f8eced,\n",
      "        :GrowingIndustry ;\n",
      "    owl:intersectionOf [ a rdf:List,\n",
      "                rdfs:Resource ;\n",
      "            rdf:first :Industry ;\n",
      "            rdf:rest [ a rdf:List,\n",
      "                        rdfs:Resource ;\n",
      "                    rdf:first _:N4c1085ebf3404ee08b809eb2a928a8e3 ;\n",
      "                    rdf:rest () ] ] .\n",
      "\n",
      ":EuroPropertyAdvisors a :Company,\n",
      "        rdfs:Resource,\n",
      "        owl:NamedIndividual,\n",
      "        owl:Thing ;\n",
      "    rdfs:label \"EuroProperty Advisors\" ;\n",
      "    :previousForecastAccuracy \"35%\" ;\n",
      "    :relatedEvent :IndustryTrend ;\n",
      "    :reputationScore \"3 out of 10\" ;\n",
      "    owl:sameAs :EuroPropertyAdvisors .\n",
      "\n",
      ":GreaterLondon a :Location,\n",
      "        rdfs:Resource,\n",
      "        owl:NamedIndividual,\n",
      "        owl:Thing ;\n",
      "    rdfs:label \"Greater London\" ;\n",
      "    :newConstructionPermits \"-50%\" ;\n",
      "    :relatedEvent :RegulatoryChange ;\n",
      "    owl:sameAs :GreaterLondon .\n",
      "\n",
      ":IndustrialRealEstate a :Industry,\n",
      "        rdfs:Resource,\n",
      "        owl:NamedIndividual,\n",
      "        owl:Thing ;\n",
      "    rdfs:label \"Industrial Real Estate\" ;\n",
      "    :relatedEvent :WarehouseUtilization ;\n",
      "    :vacancyRate \"30%\" ;\n",
      "    owl:sameAs :IndustrialRealEstate .\n",
      "\n",
      ":Warehouse a :Industry,\n",
      "        rdfs:Resource,\n",
      "        owl:NamedIndividual,\n",
      "        owl:Thing ;\n",
      "    rdfs:label \"Warehouse Sector\" ;\n",
      "    :constructionActivity \"-40%\" ;\n",
      "    :relatedEvent :IndustryTrend ;\n",
      "    owl:sameAs :Warehouse .\n",
      "\n",
      ":EconomicOutlook a :Event,\n",
      "        rdfs:Resource,\n",
      "        owl:NamedIndividual,\n",
      "        owl:Thing ;\n",
      "    rdfs:label \"Economic Outlook\" ;\n",
      "    rdfs:comment \"IMF revises Eurozone GDP growth forecast for 2024 from 1.8% to 0.5%, citing inflationary pressures and reduced consumer spending.\" ;\n",
      "    owl:sameAs :EconomicOutlook .\n",
      "\n",
      ":RegulatoryChange a :Event,\n",
      "        rdfs:Resource,\n",
      "        owl:NamedIndividual,\n",
      "        owl:Thing ;\n",
      "    rdfs:label \"Regulatory Change\" ;\n",
      "    rdfs:comment \"The European Commission has announced strict zoning regulations limiting warehouse construction in urban areas, effective January 2024.\" ;\n",
      "    owl:sameAs :RegulatoryChange .\n",
      "\n",
      ":EcommerceGrowth a :Event,\n",
      "        rdfs:Resource,\n",
      "        owl:NamedIndividual,\n",
      "        owl:Thing ;\n",
      "    rdfs:label \"E-commerce Growth\" ;\n",
      "    rdfs:comment \"Major e-commerce players report a 25% year-over-year decrease in sales volume across European markets.\" ;\n",
      "    owl:sameAs :EcommerceGrowth .\n",
      "\n",
      ":IndustryTrend a :Event,\n",
      "        rdfs:Resource,\n",
      "        owl:NamedIndividual,\n",
      "        owl:Thing ;\n",
      "    rdfs:label \"Industry Trend\" ;\n",
      "    rdfs:comment \"Recent satellite data shows a 40% decrease in construction activity for new warehouses across Europe in Q3 2023.\" ;\n",
      "    owl:sameAs :IndustryTrend .\n",
      "\n",
      ":Paris a :Location,\n",
      "        rdfs:Resource,\n",
      "        owl:NamedIndividual,\n",
      "        owl:Thing ;\n",
      "    rdfs:label \"Paris\" ;\n",
      "    :ecommerceMarketShare \"-15%\" ;\n",
      "    :isWithin :Europe ;\n",
      "    :relatedEvent :EcommerceGrowth ;\n",
      "    owl:sameAs :Paris ;\n",
      "    owl:topObjectProperty :Europe .\n",
      "\n",
      ":RuhrArea a :Location,\n",
      "        rdfs:Resource,\n",
      "        owl:NamedIndividual,\n",
      "        owl:Thing ;\n",
      "    rdfs:label \"Ruhr Area\" ;\n",
      "    :isWithin :Europe ;\n",
      "    :relatedEvent :WarehouseUtilization ;\n",
      "    :warehouseOccupancy \"45%\" ;\n",
      "    owl:sameAs :RuhrArea ;\n",
      "    owl:topObjectProperty :Europe .\n",
      "\n",
      ":WarehouseUtilization a :Event,\n",
      "        rdfs:Resource,\n",
      "        owl:NamedIndividual,\n",
      "        owl:Thing ;\n",
      "    rdfs:label \"Warehouse Utilization\" ;\n",
      "    rdfs:comment \"Recent industry survey reveals 30% of existing e-commerce warehouses in Europe are operating at less than 50% capacity.\" ;\n",
      "    owl:sameAs :WarehouseUtilization .\n",
      "\n",
      ":Warsaw a :Location,\n",
      "        rdfs:Resource,\n",
      "        owl:NamedIndividual,\n",
      "        owl:Thing ;\n",
      "    rdfs:label \"Warsaw\" ;\n",
      "    :industrialLandValue \"-10%\" ;\n",
      "    :isWithin :Europe ;\n",
      "    :relatedEvent :EconomicOutlook ;\n",
      "    owl:sameAs :Warsaw ;\n",
      "    owl:topObjectProperty :Europe .\n",
      "\n",
      ":E-commerce_Real_Estate_Exemption a :Regulation,\n",
      "        rdfs:Resource,\n",
      "        owl:NamedIndividual,\n",
      "        owl:Thing ;\n",
      "    rdfs:label \"Real Estate Exemptions for industries\" ;\n",
      "    :exemptedIndustry :ECommerce ;\n",
      "    :regulatedRegion :Europe ;\n",
      "    rdfs:comment \"Some industries posess exemptions from real estate zoning regulations in the linked regions, meaning they can freely grow even if there are specific limitations on new warehouse constructions.\" ;\n",
      "    owl:sameAs :E-commerce_Real_Estate_Exemption ;\n",
      "    owl:topObjectProperty :ECommerce,\n",
      "        :Europe .\n",
      "\n",
      ":ECommerce a _:N4c1085ebf3404ee08b809eb2a928a8e3,\n",
      "        _:Nd7a34725adae49d286baa0b3f9f8eced,\n",
      "        :GrowingIndustry,\n",
      "        :Industry,\n",
      "        rdfs:Resource,\n",
      "        owl:NamedIndividual,\n",
      "        owl:Thing ;\n",
      "    rdfs:label \"E-commerce Sector\" ;\n",
      "    :growthRate \"-25%\" ;\n",
      "    :industryExempted _:N05deed2f58774dd1b1dab03ca3039c08,\n",
      "        :E-commerce_Real_Estate_Exemption ;\n",
      "    :relatedEvent :EcommerceGrowth ;\n",
      "    owl:sameAs :ECommerce ;\n",
      "    owl:topObjectProperty _:N05deed2f58774dd1b1dab03ca3039c08,\n",
      "        :E-commerce_Real_Estate_Exemption .\n",
      "\n",
      ":Europe a :Location,\n",
      "        rdfs:Resource,\n",
      "        owl:NamedIndividual,\n",
      "        owl:Thing ;\n",
      "    :locationContains :Paris,\n",
      "        :RuhrArea,\n",
      "        :Warsaw ;\n",
      "    :regionRegulated :E-commerce_Real_Estate_Exemption ;\n",
      "    owl:sameAs :Europe ;\n",
      "    owl:topObjectProperty :E-commerce_Real_Estate_Exemption,\n",
      "        :Paris,\n",
      "        :RuhrArea,\n",
      "        :Warsaw .\n",
      "\n",
      "_:N05deed2f58774dd1b1dab03ca3039c08 a :Regulation,\n",
      "        rdfs:Resource,\n",
      "        owl:Thing ;\n",
      "    :exemptedIndustry :ECommerce ;\n",
      "    owl:sameAs _:N05deed2f58774dd1b1dab03ca3039c08 ;\n",
      "    owl:topObjectProperty :ECommerce .\n",
      "\n",
      "\n"
     ]
    }
   ],
   "source": [
    "# Testing with some keywords\n",
    "print(rdf_query(['EuroProperty Advisors', 'e-commerce', 'industrial real estate', 'warehouse', 'Ruhr Area', 'Greater London', 'Paris', 'Warsaw']))"
   ]
  },
  {
   "cell_type": "markdown",
   "id": "cbe848d9",
   "metadata": {},
   "source": [
    "## Neo4J"
   ]
  },
  {
   "cell_type": "code",
   "execution_count": 6,
   "id": "2c325d58",
   "metadata": {
    "scrolled": true
   },
   "outputs": [],
   "source": [
    "neo4j_graph = Graph(\"bolt://neo4j:7687\", auth=(\"neo4j\", \"password\"))"
   ]
  },
  {
   "cell_type": "markdown",
   "id": "56b0e6b5",
   "metadata": {},
   "source": [
    "### Query test"
   ]
  },
  {
   "cell_type": "code",
   "execution_count": 7,
   "id": "e814c3d3",
   "metadata": {},
   "outputs": [],
   "source": [
    "def generate_company_search_query_neo4j(search_string):\n",
    "    \n",
    "    if isinstance(search_string, list):\n",
    "        regex_pattern = '|'.join(search_string)\n",
    "    else:\n",
    "        regex_pattern = search_string\n",
    "    \n",
    "    cypher_template = \"\"\"\n",
    "    MATCH p=(source)-[r *1..2]-(target)\n",
    "    WHERE source.name =~ '(?i).*({regex_pattern}).*'\n",
    "    \n",
    "    RETURN source AS source_node,\n",
    "           target AS related_node,\n",
    "           [rel IN relationships(p) | {{\n",
    "               type: type(rel),\n",
    "               properties: properties(rel),\n",
    "               start_node: startNode(rel).name,\n",
    "               end_node: endNode(rel)\n",
    "           }}] AS relationships\n",
    "    \"\"\"\n",
    "    return cypher_template.format(regex_pattern=regex_pattern)\n",
    "\n",
    "def neo4j_query(search_string):\n",
    "    results = neo4j_graph.run(generate_company_search_query_neo4j(search_string)).data()\n",
    "    \n",
    "    output = []\n",
    "    for record in results:\n",
    "        source = record['source_node']\n",
    "        related = record['related_node']\n",
    "        relationships = record['relationships']\n",
    "        \n",
    "        output.append(f\"Source: {source['name']}\")\n",
    "        output.append(f\"Related: {related}\")\n",
    "        for rel in relationships:\n",
    "            output.append(f\"Relationship: {rel['start_node']} --[{rel['type']}]--> {rel['end_node']}\")\n",
    "            output.append(f\"Properties: {rel['properties']}\")\n",
    "        output.append(\"---\")\n",
    "    \n",
    "    return \"\\n\".join(output)"
   ]
  },
  {
   "cell_type": "code",
   "execution_count": 8,
   "id": "cc6dd96d",
   "metadata": {},
   "outputs": [
    {
     "name": "stdout",
     "output_type": "stream",
     "text": [
      "Source: GreenEnergy Holdings LLC\n",
      "Related: (_2:Company {EBITDA_YoY_change: '-15%', debtToEquityRatio: '2.8', marketCapitalization: '$300 million', name: 'SolarSpark Inc.', recentAcquisitions: '3.5', recentLayoffs: '20% of workforce'})\n",
      "Relationship: SolarSpark Inc. --[ACQUIRES]--> (_1:Company {EBITDA_YoY_change: '-40%', customerChurnRate: '25%', name: 'GreenEnergy Holdings LLC'})\n",
      "Properties: {}\n",
      "---\n",
      "Source: GreenEnergy Holdings LLC\n",
      "Related: (_14:Event {comment: 'GreenEnergy Holdings is facing potential license revocation in two major markets due to alleged fraudulent practices.', name: 'GreenEnergy regulatory event'})\n",
      "Relationship: GreenEnergy Holdings LLC --[COMPANY_EVENT]--> (_14:Event {comment: 'GreenEnergy Holdings is facing potential license revocation in two major markets due to alleged fraudulent practices.', name: 'GreenEnergy regulatory event'})\n",
      "Properties: {}\n",
      "---\n",
      "Source: GreenEnergy regulatory event\n",
      "Related: (_1:Company {EBITDA_YoY_change: '-40%', customerChurnRate: '25%', name: 'GreenEnergy Holdings LLC'})\n",
      "Relationship: GreenEnergy Holdings LLC --[COMPANY_EVENT]--> (_14:Event {comment: 'GreenEnergy Holdings is facing potential license revocation in two major markets due to alleged fraudulent practices.', name: 'GreenEnergy regulatory event'})\n",
      "Properties: {}\n",
      "---\n",
      "Source: GreenEnergy regulatory event\n",
      "Related: (_2:Company {EBITDA_YoY_change: '-15%', debtToEquityRatio: '2.8', marketCapitalization: '$300 million', name: 'SolarSpark Inc.', recentAcquisitions: '3.5', recentLayoffs: '20% of workforce'})\n",
      "Relationship: GreenEnergy Holdings LLC --[COMPANY_EVENT]--> (_14:Event {comment: 'GreenEnergy Holdings is facing potential license revocation in two major markets due to alleged fraudulent practices.', name: 'GreenEnergy regulatory event'})\n",
      "Properties: {}\n",
      "Relationship: SolarSpark Inc. --[ACQUIRES]--> (_1:Company {EBITDA_YoY_change: '-40%', customerChurnRate: '25%', name: 'GreenEnergy Holdings LLC'})\n",
      "Properties: {}\n",
      "---\n"
     ]
    }
   ],
   "source": [
    "# Testing with some keywords\n",
    "print(neo4j_query('GreenEnergy'))"
   ]
  },
  {
   "cell_type": "markdown",
   "id": "bef9a06a",
   "metadata": {},
   "source": [
    "# LLM agents"
   ]
  },
  {
   "cell_type": "code",
   "execution_count": 9,
   "id": "47c6ec2d",
   "metadata": {},
   "outputs": [],
   "source": [
    "claude_client = anthropic.Anthropic()"
   ]
  },
  {
   "cell_type": "code",
   "execution_count": 10,
   "id": "e777a932",
   "metadata": {},
   "outputs": [],
   "source": [
    "@retry(wait=wait_random_exponential(min=1, max=60), stop=stop_after_attempt(6))\n",
    "def call_claude(messages, system_prompt = '', tool = False):\n",
    "\n",
    "    if tool:\n",
    "        tool_params = {\n",
    "            'tool_choice': {\"type\": \"any\"},\n",
    "            'tools' : [kg_search_tool_definition, submission_tool_definition]\n",
    "        }\n",
    "    else:\n",
    "        tool_params = {}\n",
    "    \n",
    "    response = claude_client.messages.create(\n",
    "        model='claude-3-5-sonnet-20240620',\n",
    "        max_tokens=4000,\n",
    "        system=system_prompt,\n",
    "        messages=messages,\n",
    "        temperature=0,\n",
    "        **tool_params\n",
    "        \n",
    "    )\n",
    "\n",
    "    return response"
   ]
  },
  {
   "cell_type": "markdown",
   "id": "d6eac524",
   "metadata": {},
   "source": [
    "## KG-to-text agent"
   ]
  },
  {
   "cell_type": "code",
   "execution_count": 11,
   "id": "f53cc5ae",
   "metadata": {},
   "outputs": [],
   "source": [
    "system_prompt_kg2txt = \"\"\"You are a graph-to-text converter AI. You will receive a knowledge graph extract in an RDF turtle format or a Neo4J labeled property graph extract, and you need to translate this into natural language format to support the decision making of a financial analyst.\n",
    "You will also receive a news article to which the supplemental knowledge from the knowledge graph pertains to, and you need to provide a textual summary on relevant facts from the graph, that might assist the analyst to understand the context of the news article accurately.\"\"\""
   ]
  },
  {
   "cell_type": "code",
   "execution_count": 12,
   "id": "c165e4e0",
   "metadata": {},
   "outputs": [],
   "source": [
    "main_prompt_kg2txt = \"\"\"\n",
    "Within the tags '<graph></graph>' you will receive a raw subgraph data from a knowledge graph. Within the tags '<article></article>' you will receive a financial news article.\n",
    "\n",
    "<graph>\n",
    "{}\n",
    "</graph>\n",
    "\n",
    "<article>{}</article>\n",
    "\n",
    "Translate the graph data into a natural language format based summary to support the analysis of the news article.\"\"\""
   ]
  },
  {
   "cell_type": "code",
   "execution_count": 13,
   "id": "2d148a9f",
   "metadata": {},
   "outputs": [],
   "source": [
    "def kg_query_agent(news_article_str, search_strings, source='rdf'):\n",
    "\n",
    "    if source == 'rdf':\n",
    "        query_results = rdf_query(search_strings)\n",
    "    elif source == 'neo4j':\n",
    "        query_results = neo4j_query(search_strings)\n",
    "    else:\n",
    "        raise ValueError(\"Invalid source parameter value: should be one of these 'rdf', 'neo4j'\")\n",
    "    \n",
    "    messages = [{'role': 'user','content':[{'type': 'text','text': main_prompt_kg2txt.format(query_results, news_article_str)}]}]\n",
    "    \n",
    "    response = call_claude(messages, system_prompt_kg2txt)\n",
    "    \n",
    "    return response.content[0].text"
   ]
  },
  {
   "cell_type": "markdown",
   "id": "0ebec5fa",
   "metadata": {},
   "source": [
    "## Analyst agent"
   ]
  },
  {
   "cell_type": "code",
   "execution_count": 14,
   "id": "6bb6d9d7",
   "metadata": {},
   "outputs": [],
   "source": [
    "system_prompt_analyst = \"\"\"You are a financial news analyst AI. Your task is to read financial news articles, identify key entities and asset classes relevant to the news, and provide a sentiment score on a scale of -10 to 10 predicting investor sentiment.\n",
    "\n",
    "- **Sentiment Scale:**\n",
    "  - -10: Extremely bearish sentiment\n",
    "  - 0: Neutral sentiment\n",
    "  - +10: Extremely bullish sentiment\n",
    "\n",
    "- **Process:**\n",
    "     - Base your analysis on the information provided in the news article.\n",
    "     - Provide a sentiment score with a brief rationale (1-5 sentences) explaining your decision, considering financial metrics, regulatory issues, industry trends, macroeconomic events, and entity-specific events.\n",
    "     - Identify key entities (e.g., companies, countries, industries, financial instruments, regions) from the news article for which additional context is needed.\n",
    "     - Use the knowledge graph tool to query relevant details about these entities.\n",
    "     - Extend your analysis with the new information, as it may reveal crucial details not present in the public news release.\n",
    "     - Update your sentiment score and rationale based on the additional context.\n",
    "\n",
    "- **Important Considerations:**\n",
    "  - Assess how the news might affect future prospects, market positions, financial health, and macroeconomic conditions.\n",
    "  - Be willing to make substantial changes to your sentiment score when presented with additional context, as the knowledge graph often contains non-public information that can alter the interpretation of the news event.\n",
    "\n",
    "Submit your results after completing the contextual analysis.\"\"\""
   ]
  },
  {
   "cell_type": "code",
   "execution_count": 15,
   "id": "c83a3745",
   "metadata": {},
   "outputs": [],
   "source": [
    "main_prompt_template_analyst = \"\"\"Within the tags '<article></article>' you will receive a relevant news article.\n",
    "\n",
    "<article>{}</article>\n",
    "\n",
    "Provide your sentiment analysis on this news article, after you have identified key entities and requested additional context from the knowledge graph, for which you have tool available for you to use.\"\"\""
   ]
  },
  {
   "cell_type": "markdown",
   "id": "0c4e0213",
   "metadata": {},
   "source": [
    "### Claude tool definitions"
   ]
  },
  {
   "cell_type": "code",
   "execution_count": 16,
   "id": "8fcc3c8a",
   "metadata": {},
   "outputs": [],
   "source": [
    "kg_search_tool_definition = {\n",
    "    \"name\": \"query_knowledge_graph\",\n",
    "    \"description\": \"Retrieve supplemental information from a knowledge graph agent on companies, organizations, instruments and people. The query will result in a textual response from the agent containing additional context in a natural language format.\",\n",
    "    \"input_schema\": {\n",
    "        \"type\": \"object\",\n",
    "        \"properties\": {\n",
    "                \"search_strings\": {\n",
    "                    \"type\": \"array\",\n",
    "                    \"items\": {\n",
    "                        \"type\": \"string\",\n",
    "                        \"description\": \"List of search strings, for which every element labeled similarly should be retrieved from the knowledge graph, with a connected subgraph containing details and relations of the target entity. Provide simple stems of strings and avoid multiple words if possible as the search is based on a simple case insensitive regex matching.\"\n",
    "                    }\n",
    "                }\n",
    "        },\n",
    "        \"required\": [\"search_string\"]\n",
    "    }\n",
    "}\n",
    "\n",
    "\n",
    "# Submission tool\n",
    "submission_tool_definition = {\n",
    "    \"name\": \"submit_results\",\n",
    "    \"description\": \"Submit sentiment analysis results\",\n",
    "    \"input_schema\": {\n",
    "           \"type\":\"object\",\n",
    "   \"properties\":{\n",
    "      \"summary\":{\n",
    "         \"description\":\"Short summary of the news article\",\n",
    "         \"type\":\"string\",\n",
    "         \"maxLength\":600\n",
    "      },\n",
    "      \"key_entities\":{\n",
    "         \"type\":\"array\",\n",
    "         \"items\":{\n",
    "            \"type\":\"string\",\n",
    "            \"description\":\"list of key entities, companies, instruments to which the article pertains to\"\n",
    "         }\n",
    "      },\n",
    "      \"region\":{\n",
    "            \"type\":\"string\",\n",
    "            \"enum\":[\n",
    "               \"US\",\n",
    "               \"CA\", \n",
    "               \"UK\",\n",
    "               \"EU\",\n",
    "               \"AU\",\n",
    "               \"JP\",\n",
    "               \"CN\",\n",
    "               \"GLOBAL\"\n",
    "            ],\n",
    "            \"description\":\"The economic region where this article might be relevant.\"\n",
    "      },    \n",
    "      \"asset_class\":{\n",
    "         \"type\":\"array\",\n",
    "         \"items\":{\n",
    "            \"type\":\"string\",\n",
    "            \"enum\":[\n",
    "               \"EQUITIES\",\n",
    "               \"FIXED INCOME\",\n",
    "               \"CASH\",\n",
    "               \"REAL ESTATE\",\n",
    "               \"COMMODITIES\"\n",
    "            ],\n",
    "            \"description\":\"List of asset classes for which the article and the resulting investment sentiment might be relevant\"\n",
    "         }\n",
    "      },\n",
    "    \"sentiment_score_per_asset_class\":{\n",
    "         \"type\":\"array\",\n",
    "         \"items\":{\n",
    "            \"type\":\"object\",\n",
    "            \"properties\":{\n",
    "                \"asset_class\":{\n",
    "                    \"type\":\"string\",\n",
    "                    \"enum\":[\n",
    "                       \"EQUITIES\",\n",
    "                       \"FIXED INCOME\",\n",
    "                       \"CASH\",\n",
    "                       \"REAL ESTATE\",\n",
    "                       \"COMMODITIES\"\n",
    "                    ]},\n",
    "                \"sentiment_score\": {\n",
    "                     \"type\":\"number\",\n",
    "                     \"minimum\":-10,\n",
    "                     \"maximum\":10\n",
    "                }\n",
    "            },      \n",
    "            \"description\":\"List of objects, which provide a sentiment score from -10 to +10 for every relevant asset class.\"\n",
    "         }\n",
    "      },\n",
    "      \"overall_sentiment_score\":{\n",
    "         \"description\":\"The overall sentiment score of the article, a value from -10 to +10.\",\n",
    "         \"type\":\"number\",\n",
    "         \"minimum\":-10,\n",
    "         \"maximum\":10\n",
    "      },\n",
    "      \"rationale\":{\n",
    "         \"description\":\"The short summary on the rationale behind choosing the particular sentiment value.\",\n",
    "         \"type\":\"string\",\n",
    "         \"maxLength\":300\n",
    "       },\n",
    "     \"confidence\":{\n",
    "         \"description\":\"A confidence score on the analysis based on how much information and context is available to provide a firm analysis on the situation. Minimum number of 0 means, that the analysis is completely arbitrary, not enough information is available to provide a valid sentiment score. 100 means the analysis is very thorough, all the relevant information was available to provide a definite sentiment analysis.\",\n",
    "         \"type\":\"number\",\n",
    "         \"minimum\":0,\n",
    "         \"maximum\":100\n",
    "      },\n",
    "      },\n",
    "        \"required\": [\"summary\", \"key_entities\", \"asset_class\", \"region\", \"overall_sentiment_score\", \"sentiment_score_per_asset_class\", \"confidence\"]\n",
    "    }\n",
    "}"
   ]
  },
  {
   "cell_type": "markdown",
   "id": "c7312f51",
   "metadata": {},
   "source": [
    "### API Call functions"
   ]
  },
  {
   "cell_type": "code",
   "execution_count": 17,
   "id": "f1715126",
   "metadata": {},
   "outputs": [],
   "source": [
    "def claude_news_analytics(news_article_str, RAG=None):\n",
    "    messages = [{'role': 'user','content':[{'type': 'text','text': main_prompt_template_analyst.format(news_article_str)}]}]\n",
    "\n",
    "    response = call_claude(messages, system_prompt_analyst, tool = True )\n",
    "    messages.append({\"role\": \"assistant\", \"content\": response.content})\n",
    "\n",
    "    tool_request = response.content[-1]\n",
    "    search_strings = tool_request.input['search_strings']\n",
    "\n",
    "    if RAG == 'rdf':\n",
    "        query_results = kg_query_agent(news_article_str, search_strings, source='rdf')\n",
    "    elif RAG == 'neo4j':\n",
    "        query_results = kg_query_agent(news_article_str, search_strings, source='neo4j')\n",
    "    elif RAG == None:\n",
    "        query_results = 'No additional knowledge available on these topics.'\n",
    "    else:\n",
    "        raise ValueError(\"Invalid RAG parameter value: should be one of these 'rdf', 'neo4j' or None\")\n",
    "\n",
    "    tool_response = {\n",
    "        \"role\": \"user\",\n",
    "        \"content\": [\n",
    "            {\n",
    "            \"type\": \"tool_result\",\n",
    "            \"tool_use_id\": tool_request.id,\n",
    "            \"content\": query_results\n",
    "            }\n",
    "        ]\n",
    "    }\n",
    "    messages.append(tool_response)\n",
    "\n",
    "    response = call_claude(messages, system_prompt_analyst, tool = True )\n",
    "    \n",
    "    return response.content[-1].input, messages"
   ]
  },
  {
   "cell_type": "markdown",
   "id": "45df3336",
   "metadata": {},
   "source": [
    "# Live demo"
   ]
  },
  {
   "cell_type": "markdown",
   "id": "29d1e14e",
   "metadata": {},
   "source": [
    "## Mockup news 1"
   ]
  },
  {
   "cell_type": "code",
   "execution_count": 18,
   "id": "6d5602b5",
   "metadata": {},
   "outputs": [],
   "source": [
    "mockup_news_1 = \"\"\"HOUSTON, Jan. 15, 2024 (GLOBE NEWSWIRE) -- SolarSpark Inc. (\"SolarSpark\" or the \"Company\") (NASDAQ:SLSP), an independent retail energy services company, announced today that the Company and GreenEnergy Holdings LLC (\"GreenEnergy\") have agreed to modify the terms of their acquisition agreement from July 2023.\n",
    "The modified agreement adjusts the earnout provisions, with SolarSpark set to make a lump sum payment of $18.0 million in June 2024. This change will allow SolarSpark to assume full control over GreenEnergy's operations earlier than initially planned.\n",
    "\"This adjustment to our agreement with GreenEnergy reflects our evolving strategy in the current market environment,\" said Jane Doe, SolarSpark's President and Chief Executive Officer. \"We believe this move will position us to better address the challenges and opportunities in our industry.\"\n",
    "About SolarSpark Inc.\n",
    "SolarSpark Inc. provides retail energy services to residential and commercial customers across 19 states in the United States.\n",
    "\"\"\""
   ]
  },
  {
   "cell_type": "markdown",
   "id": "cc04502e",
   "metadata": {},
   "source": [
    "### Testing without RAG"
   ]
  },
  {
   "cell_type": "code",
   "execution_count": 19,
   "id": "169a50f7",
   "metadata": {
    "scrolled": true
   },
   "outputs": [],
   "source": [
    "# Without context\n",
    "response, messages = claude_news_analytics(mockup_news_1)"
   ]
  },
  {
   "cell_type": "code",
   "execution_count": 20,
   "id": "d469efd4",
   "metadata": {
    "scrolled": true
   },
   "outputs": [
    {
     "data": {
      "text/plain": [
       "{'summary': \"SolarSpark Inc., a retail energy services company, has modified its acquisition agreement with GreenEnergy Holdings LLC. The new terms involve a lump sum payment of $18 million in June 2024, allowing SolarSpark to gain full control of GreenEnergy's operations earlier than initially planned. The CEO states this change aligns with their evolving strategy in the current market environment.\",\n",
       " 'key_entities': ['SolarSpark Inc.', 'GreenEnergy Holdings LLC', 'Jane Doe'],\n",
       " 'asset_class': ['EQUITIES'],\n",
       " 'region': 'US',\n",
       " 'overall_sentiment_score': 2,\n",
       " 'sentiment_score_per_asset_class': [{'asset_class': 'EQUITIES',\n",
       "   'sentiment_score': 2}],\n",
       " 'confidence': 60,\n",
       " 'rationale': \"The modification of the acquisition agreement suggests a proactive approach by SolarSpark to adapt to market conditions. The earlier assumption of control over GreenEnergy's operations could lead to faster integration and potential synergies. However, the lump sum payment might impact short-term cash flow. The limited information and lack of financial details warrant a cautiously positive sentiment.\"}"
      ]
     },
     "execution_count": 20,
     "metadata": {},
     "output_type": "execute_result"
    }
   ],
   "source": [
    "response"
   ]
  },
  {
   "cell_type": "markdown",
   "id": "6949beb3",
   "metadata": {},
   "source": [
    "### Testing with RDF based RAG"
   ]
  },
  {
   "cell_type": "code",
   "execution_count": 21,
   "id": "46030186",
   "metadata": {},
   "outputs": [],
   "source": [
    "# With RAG context - RDF\n",
    "response, messages = claude_news_analytics(mockup_news_1, RAG='rdf')"
   ]
  },
  {
   "cell_type": "code",
   "execution_count": 22,
   "id": "7b072e9d",
   "metadata": {},
   "outputs": [
    {
     "data": {
      "text/plain": [
       "['SolarSpark', 'GreenEnergy Holdings', 'Jane Doe']"
      ]
     },
     "execution_count": 22,
     "metadata": {},
     "output_type": "execute_result"
    }
   ],
   "source": [
    "# Agent searches for these keywords in the graph\n",
    "messages[1]['content'][0].input['search_strings']"
   ]
  },
  {
   "cell_type": "code",
   "execution_count": 23,
   "id": "171a3fc5",
   "metadata": {},
   "outputs": [
    {
     "name": "stdout",
     "output_type": "stream",
     "text": [
      "@prefix : <http://www.example.org/> .\n",
      "@prefix owl: <http://www.w3.org/2002/07/owl#> .\n",
      "@prefix rdfs: <http://www.w3.org/2000/01/rdf-schema#> .\n",
      "\n",
      ":Green_Energy a :Company,\n",
      "        rdfs:Resource,\n",
      "        owl:NamedIndividual,\n",
      "        owl:Thing ;\n",
      "    rdfs:label \"GreenEnergy Holdings LLC\" ;\n",
      "    :EBITDA_YoY_change \"-40%\" ;\n",
      "    :companyEvent :RegulatoryEvent ;\n",
      "    :customerChurnRate \"25%\" ;\n",
      "    owl:sameAs :Green_Energy .\n",
      "\n",
      ":SolarSpark a :Company,\n",
      "        rdfs:Resource,\n",
      "        owl:NamedIndividual,\n",
      "        owl:Thing ;\n",
      "    rdfs:label \"SolarSpark Inc.\" ;\n",
      "    :EBITDA_YoY_change \"-15%\" ;\n",
      "    :debtToEquityRatio \"2.8\" ;\n",
      "    :marketCapitalization \"$300 million\" ;\n",
      "    :recentAcquisitions \"3.5\" ;\n",
      "    :recentLayoffs \"20% of workforce\" ;\n",
      "    owl:sameAs :SolarSpark .\n",
      "\n",
      ":RegulatoryEvent a :Event,\n",
      "        rdfs:Resource,\n",
      "        owl:NamedIndividual,\n",
      "        owl:Thing ;\n",
      "    rdfs:label \"GreenEnergy regulatory event\" ;\n",
      "    rdfs:comment \"GreenEnergy Holdings is facing potential license revocation in two major markets due to alleged fraudulent practices.\" ;\n",
      "    owl:sameAs :RegulatoryEvent .\n",
      "\n",
      "\n"
     ]
    }
   ],
   "source": [
    "# Raw output of the query\n",
    "print(rdf_query(messages[1]['content'][0].input['search_strings']))"
   ]
  },
  {
   "cell_type": "code",
   "execution_count": 24,
   "id": "60e5828c",
   "metadata": {},
   "outputs": [
    {
     "name": "stdout",
     "output_type": "stream",
     "text": [
      "Based on the knowledge graph data provided, here's a summary to support the analysis of the news article:\n",
      "\n",
      "1. Company Profiles:\n",
      "   - SolarSpark Inc. is a publicly traded company with a market capitalization of $300 million.\n",
      "   - GreenEnergy Holdings LLC is facing significant challenges.\n",
      "\n",
      "2. Financial Performance:\n",
      "   - SolarSpark has experienced a 15% year-over-year decrease in EBITDA.\n",
      "   - GreenEnergy has seen a more severe 40% year-over-year decline in EBITDA.\n",
      "\n",
      "3. Operational Challenges:\n",
      "   - SolarSpark recently laid off 20% of its workforce, indicating potential cost-cutting measures.\n",
      "   - SolarSpark has a high debt-to-equity ratio of 2.8, suggesting significant leverage.\n",
      "   - GreenEnergy is experiencing a high customer churn rate of 25%, which could be impacting its financial performance.\n",
      "\n",
      "4. Regulatory Issues:\n",
      "   - GreenEnergy is facing a significant regulatory event, with potential license revocation in two major markets due to alleged fraudulent practices.\n",
      "\n",
      "5. Acquisition Context:\n",
      "   - SolarSpark has been active in acquisitions, with 3.5 recent acquisitions noted.\n",
      "   - The modified agreement with GreenEnergy, as mentioned in the article, should be viewed in the context of SolarSpark's acquisition strategy and GreenEnergy's regulatory challenges.\n",
      "\n",
      "Analysis Implications:\n",
      "The knowledge graph data provides important context for the news article. SolarSpark's decision to modify the acquisition agreement with GreenEnergy, particularly to assume full control earlier, may be influenced by several factors:\n",
      "\n",
      "1. GreenEnergy's regulatory issues and potential license revocations could be a significant risk that SolarSpark wants to address quickly.\n",
      "2. The high customer churn rate and substantial EBITDA decline at GreenEnergy might require immediate intervention from SolarSpark to stabilize the business.\n",
      "3. SolarSpark's own financial challenges (EBITDA decline, high debt, recent layoffs) might be driving a more aggressive approach to integrate and potentially turn around GreenEnergy's operations.\n",
      "4. The earlier assumption of control could allow SolarSpark to implement changes that might mitigate the regulatory risks faced by GreenEnergy.\n",
      "\n",
      "This context suggests that while the acquisition may present opportunities for SolarSpark, it also comes with significant risks and challenges that the company will need to navigate carefully.\n"
     ]
    }
   ],
   "source": [
    "# KG-to-text agent summarizes\n",
    "print(messages[-1]['content'][0]['content'])"
   ]
  },
  {
   "cell_type": "code",
   "execution_count": 25,
   "id": "f5a68754",
   "metadata": {
    "scrolled": true
   },
   "outputs": [
    {
     "data": {
      "text/plain": [
       "{'summary': \"SolarSpark Inc. has modified its acquisition agreement with GreenEnergy Holdings LLC, opting for a lump sum payment of $18 million in June 2024 to assume full control of GreenEnergy's operations earlier than initially planned. This change is described as reflecting SolarSpark's evolving strategy in the current market environment.\",\n",
       " 'key_entities': ['SolarSpark Inc.', 'GreenEnergy Holdings LLC', 'Jane Doe'],\n",
       " 'asset_class': ['EQUITIES'],\n",
       " 'region': 'US',\n",
       " 'overall_sentiment_score': -3,\n",
       " 'sentiment_score_per_asset_class': [{'asset_class': 'EQUITIES',\n",
       "   'sentiment_score': -3}],\n",
       " 'confidence': 85,\n",
       " 'rationale': \"The modified acquisition agreement, while potentially allowing SolarSpark to address GreenEnergy's issues more quickly, comes with significant risks. SolarSpark's own financial challenges (EBITDA decline, high debt, recent layoffs) combined with GreenEnergy's severe problems (regulatory issues, high customer churn, EBITDA decline) create a complex and risky situation. The earlier assumption of control might be necessary but could strain SolarSpark's resources further.\"}"
      ]
     },
     "execution_count": 25,
     "metadata": {},
     "output_type": "execute_result"
    }
   ],
   "source": [
    "# This is the final structured response from the analyst agent\n",
    "response"
   ]
  },
  {
   "cell_type": "markdown",
   "id": "d325118c",
   "metadata": {},
   "source": [
    "### Testing with Labeled Property Graph (Neo4j) based RAG"
   ]
  },
  {
   "cell_type": "code",
   "execution_count": 26,
   "id": "b86a7a03",
   "metadata": {},
   "outputs": [],
   "source": [
    "# With RAG context - Neo4j\n",
    "response, messages = claude_news_analytics(mockup_news_1, RAG='neo4j')"
   ]
  },
  {
   "cell_type": "code",
   "execution_count": 27,
   "id": "b316082c",
   "metadata": {},
   "outputs": [
    {
     "data": {
      "text/plain": [
       "['SolarSpark', 'GreenEnergy Holdings', 'retail energy services', 'Jane Doe']"
      ]
     },
     "execution_count": 27,
     "metadata": {},
     "output_type": "execute_result"
    }
   ],
   "source": [
    "# Agent searches for these keywords in the graph\n",
    "messages[1]['content'][0].input['search_strings']"
   ]
  },
  {
   "cell_type": "code",
   "execution_count": 28,
   "id": "63c2b12d",
   "metadata": {},
   "outputs": [
    {
     "name": "stdout",
     "output_type": "stream",
     "text": [
      "Source: GreenEnergy Holdings LLC\n",
      "Related: (_2:Company {EBITDA_YoY_change: '-15%', debtToEquityRatio: '2.8', marketCapitalization: '$300 million', name: 'SolarSpark Inc.', recentAcquisitions: '3.5', recentLayoffs: '20% of workforce'})\n",
      "Relationship: SolarSpark Inc. --[ACQUIRES]--> (_1:Company {EBITDA_YoY_change: '-40%', customerChurnRate: '25%', name: 'GreenEnergy Holdings LLC'})\n",
      "Properties: {}\n",
      "---\n",
      "Source: GreenEnergy Holdings LLC\n",
      "Related: (_14:Event {comment: 'GreenEnergy Holdings is facing potential license revocation in two major markets due to alleged fraudulent practices.', name: 'GreenEnergy regulatory event'})\n",
      "Relationship: GreenEnergy Holdings LLC --[COMPANY_EVENT]--> (_14:Event {comment: 'GreenEnergy Holdings is facing potential license revocation in two major markets due to alleged fraudulent practices.', name: 'GreenEnergy regulatory event'})\n",
      "Properties: {}\n",
      "---\n",
      "Source: SolarSpark Inc.\n",
      "Related: (_1:Company {EBITDA_YoY_change: '-40%', customerChurnRate: '25%', name: 'GreenEnergy Holdings LLC'})\n",
      "Relationship: SolarSpark Inc. --[ACQUIRES]--> (_1:Company {EBITDA_YoY_change: '-40%', customerChurnRate: '25%', name: 'GreenEnergy Holdings LLC'})\n",
      "Properties: {}\n",
      "---\n",
      "Source: SolarSpark Inc.\n",
      "Related: (_14:Event {comment: 'GreenEnergy Holdings is facing potential license revocation in two major markets due to alleged fraudulent practices.', name: 'GreenEnergy regulatory event'})\n",
      "Relationship: SolarSpark Inc. --[ACQUIRES]--> (_1:Company {EBITDA_YoY_change: '-40%', customerChurnRate: '25%', name: 'GreenEnergy Holdings LLC'})\n",
      "Properties: {}\n",
      "Relationship: GreenEnergy Holdings LLC --[COMPANY_EVENT]--> (_14:Event {comment: 'GreenEnergy Holdings is facing potential license revocation in two major markets due to alleged fraudulent practices.', name: 'GreenEnergy regulatory event'})\n",
      "Properties: {}\n",
      "---\n"
     ]
    }
   ],
   "source": [
    "# Raw output of the query\n",
    "print(neo4j_query(messages[1]['content'][0].input['search_strings']))"
   ]
  },
  {
   "cell_type": "code",
   "execution_count": 29,
   "id": "0a84e1db",
   "metadata": {},
   "outputs": [
    {
     "name": "stdout",
     "output_type": "stream",
     "text": [
      "Based on the knowledge graph data provided, here's a summary of relevant facts to support the analysis of the news article:\n",
      "\n",
      "1. Financial Health:\n",
      "   - SolarSpark Inc. is experiencing financial challenges, with a 15% year-over-year decrease in EBITDA.\n",
      "   - The company has a high debt-to-equity ratio of 2.8, indicating significant leverage.\n",
      "   - SolarSpark's market capitalization is $300 million.\n",
      "\n",
      "2. Recent Corporate Actions:\n",
      "   - SolarSpark has made 3.5 recent acquisitions, suggesting an aggressive growth strategy.\n",
      "   - The company has undergone significant restructuring, laying off 20% of its workforce.\n",
      "\n",
      "3. Acquisition of GreenEnergy Holdings LLC:\n",
      "   - GreenEnergy Holdings is facing severe financial difficulties, with a 40% year-over-year decrease in EBITDA.\n",
      "   - GreenEnergy has a high customer churn rate of 25%, indicating potential issues with customer satisfaction or retention.\n",
      "\n",
      "4. Regulatory Concerns:\n",
      "   - GreenEnergy Holdings is facing a major regulatory event, with potential license revocation in two major markets due to alleged fraudulent practices.\n",
      "\n",
      "5. Implications for the Acquisition:\n",
      "   - The modification of the acquisition agreement, as mentioned in the news article, may be influenced by GreenEnergy's poor financial performance and regulatory issues.\n",
      "   - SolarSpark's decision to assume full control earlier than planned could be an attempt to address these challenges more directly.\n",
      "\n",
      "6. Risk Assessment:\n",
      "   - The acquisition of GreenEnergy Holdings presents significant risks for SolarSpark, given the target company's financial struggles and regulatory problems.\n",
      "   - SolarSpark's own financial challenges and high leverage may complicate its ability to successfully integrate and turn around GreenEnergy's operations.\n",
      "\n",
      "This additional context suggests that while SolarSpark is pursuing an aggressive growth strategy through acquisitions, it is doing so in a challenging financial and regulatory environment. The modified agreement with GreenEnergy may be an attempt to mitigate risks and take more direct control of the situation, but it also exposes SolarSpark to significant potential liabilities and operational challenges.\n"
     ]
    }
   ],
   "source": [
    "# KG-to-text agent summarizes\n",
    "print(messages[-1]['content'][0]['content'])"
   ]
  },
  {
   "cell_type": "code",
   "execution_count": 30,
   "id": "f783552d",
   "metadata": {
    "scrolled": true
   },
   "outputs": [
    {
     "data": {
      "text/plain": [
       "{'summary': \"SolarSpark Inc., a retail energy services company, has modified its acquisition agreement with GreenEnergy Holdings LLC. The new terms involve a lump sum payment of $18 million in June 2024, allowing SolarSpark to assume full control of GreenEnergy's operations earlier than initially planned. The company's CEO, Jane Doe, states that this change reflects their evolving strategy in the current market environment.\",\n",
       " 'key_entities': ['SolarSpark Inc.', 'GreenEnergy Holdings LLC', 'Jane Doe'],\n",
       " 'asset_class': ['EQUITIES'],\n",
       " 'region': 'US',\n",
       " 'overall_sentiment_score': -6,\n",
       " 'sentiment_score_per_asset_class': [{'asset_class': 'EQUITIES',\n",
       "   'sentiment_score': -6}],\n",
       " 'confidence': 85,\n",
       " 'rationale': \"The sentiment score of -6 reflects a significantly bearish outlook for SolarSpark Inc. based on the news and additional context. While the company is attempting to address challenges through the modified acquisition agreement, the underlying financial and regulatory issues present substantial risks. SolarSpark's high leverage, declining EBITDA, and aggressive acquisition strategy in a challenging market environment raise concerns about its financial stability. Moreover, GreenEnergy's severe financial difficulties, high customer churn rate, and potential license revocations in major markets suggest that this acquisition may burden SolarSpark with significant liabilities and operational challenges, potentially outweighing any strategic benefits.\"}"
      ]
     },
     "execution_count": 30,
     "metadata": {},
     "output_type": "execute_result"
    }
   ],
   "source": [
    "# This is the final structured response from the analyst agent\n",
    "response"
   ]
  },
  {
   "cell_type": "markdown",
   "id": "2dda81e4",
   "metadata": {},
   "source": [
    "## Mockup news 2"
   ]
  },
  {
   "cell_type": "code",
   "execution_count": 31,
   "id": "00a156c3",
   "metadata": {},
   "outputs": [],
   "source": [
    "mockup_news_2 = \"\"\"LONDON, Oct. 1, 2023 (GLOBE NEWSWIRE) -- EuroProperty Advisors, a leading real estate services firm, has released its annual report on industrial land prices across Europe. The report highlights significant changes in the valuation of plots suitable for e-commerce fulfillment centers.\n",
    "According to the report, the average price for large industrial parcels (50 to 100 hectares) in 10 surveyed European markets now stands at €250,000 per hectare, compared to €125,000 a year ago. Smaller plots of 5 to 10 hectares, typically used for last-mile delivery centers, have seen prices rise to over €600,000 per hectare, up from approximately €500,000 last year.\n",
    "Markus Vogel, head of EuroProperty Advisors' Industrial & Logistics Research division, stated, \"The changing landscape of industrial real estate reflects the evolving needs of the e-commerce sector. We're seeing significant price movements in key markets.\"\n",
    "The report identifies Germany's Ruhr Area, Greater London, Paris, and Warsaw as the most active warehouse construction markets. Price increases varied across these regions, with the Ruhr Area seeing a 30% rise, London and Paris experiencing 20% growth, and Warsaw noting an 18% increase.\n",
    "Industry experts suggest that these price changes may impact the development of new warehouses and distribution centers in densely populated areas, potentially affecting the expansion plans of major e-commerce players.\n",
    "EuroProperty Advisors will be hosting a webinar on Thursday, October 5, 2023, at 12:00 PM CET to discuss the implications of these findings for the e-commerce and logistics sectors.\n",
    "\"\"\""
   ]
  },
  {
   "cell_type": "markdown",
   "id": "159ddc34",
   "metadata": {},
   "source": [
    "### Testing without RAG"
   ]
  },
  {
   "cell_type": "code",
   "execution_count": 32,
   "id": "18d8cae4",
   "metadata": {},
   "outputs": [],
   "source": [
    "# Without context\n",
    "response, messages = claude_news_analytics(mockup_news_2)"
   ]
  },
  {
   "cell_type": "code",
   "execution_count": 33,
   "id": "e3050e8a",
   "metadata": {},
   "outputs": [
    {
     "data": {
      "text/plain": [
       "{'summary': \"EuroProperty Advisors' annual report reveals significant increases in industrial land prices across Europe, particularly for plots suitable for e-commerce fulfillment centers. Large industrial parcels have doubled in price to €250,000 per hectare, while smaller plots for last-mile delivery centers have increased to over €600,000 per hectare. The Ruhr Area, Greater London, Paris, and Warsaw are identified as the most active warehouse construction markets, with price increases ranging from 18% to 30%. These changes may impact the development of new warehouses and distribution centers in densely populated areas.\",\n",
       " 'key_entities': ['EuroProperty Advisors',\n",
       "  'Ruhr Area',\n",
       "  'Greater London',\n",
       "  'Paris',\n",
       "  'Warsaw',\n",
       "  'e-commerce sector',\n",
       "  'industrial real estate',\n",
       "  'logistics sector'],\n",
       " 'asset_class': ['REAL ESTATE', 'EQUITIES'],\n",
       " 'region': 'EU',\n",
       " 'overall_sentiment_score': 6,\n",
       " 'sentiment_score_per_asset_class': [{'asset_class': 'REAL ESTATE',\n",
       "   'sentiment_score': 8},\n",
       "  {'asset_class': 'EQUITIES', 'sentiment_score': 4}],\n",
       " 'confidence': 80,\n",
       " 'rationale': 'The significant increase in industrial land prices across Europe, especially for e-commerce fulfillment centers, indicates strong demand and growth in the sector. This trend is likely to benefit real estate companies and REITs specializing in industrial properties. For equities, particularly those in the e-commerce and logistics sectors, the impact is mixed: while it signifies growth, higher land prices may increase operational costs and potentially affect profit margins.'}"
      ]
     },
     "execution_count": 33,
     "metadata": {},
     "output_type": "execute_result"
    }
   ],
   "source": [
    "response"
   ]
  },
  {
   "cell_type": "markdown",
   "id": "1fce15a4",
   "metadata": {},
   "source": [
    "### Testing with RDF based RAG"
   ]
  },
  {
   "cell_type": "code",
   "execution_count": 34,
   "id": "68a2fe8b",
   "metadata": {},
   "outputs": [],
   "source": [
    "# With RAG context - RDF\n",
    "response, messages = claude_news_analytics(mockup_news_2, RAG='rdf')"
   ]
  },
  {
   "cell_type": "code",
   "execution_count": 35,
   "id": "bd8b535b",
   "metadata": {},
   "outputs": [
    {
     "data": {
      "text/plain": [
       "['EuroProperty Advisors',\n",
       " 'e-commerce',\n",
       " 'industrial real estate',\n",
       " 'Ruhr Area',\n",
       " 'Greater London',\n",
       " 'Paris',\n",
       " 'Warsaw',\n",
       " 'Markus Vogel']"
      ]
     },
     "execution_count": 35,
     "metadata": {},
     "output_type": "execute_result"
    }
   ],
   "source": [
    "# Agent searches for these keywords in the graph\n",
    "messages[1]['content'][0].input['search_strings']"
   ]
  },
  {
   "cell_type": "code",
   "execution_count": 36,
   "id": "9550eb2b",
   "metadata": {
    "scrolled": true
   },
   "outputs": [
    {
     "name": "stdout",
     "output_type": "stream",
     "text": [
      "@prefix : <http://www.example.org/> .\n",
      "@prefix owl: <http://www.w3.org/2002/07/owl#> .\n",
      "@prefix rdf: <http://www.w3.org/1999/02/22-rdf-syntax-ns#> .\n",
      "@prefix rdfs: <http://www.w3.org/2000/01/rdf-schema#> .\n",
      "\n",
      "_:N4fd0cb381a9e4d44909f13020906037f a rdfs:Class,\n",
      "        rdfs:Resource,\n",
      "        owl:Class ;\n",
      "    rdfs:subClassOf _:N4fd0cb381a9e4d44909f13020906037f,\n",
      "        _:N6b3b91d7e2b840ac9ac0b1a632cca0ac,\n",
      "        :GrowingIndustry,\n",
      "        :Industry,\n",
      "        rdfs:Resource,\n",
      "        owl:Thing ;\n",
      "    owl:equivalentClass _:N4fd0cb381a9e4d44909f13020906037f,\n",
      "        _:N6b3b91d7e2b840ac9ac0b1a632cca0ac,\n",
      "        :GrowingIndustry ;\n",
      "    owl:intersectionOf [ a rdf:List,\n",
      "                rdfs:Resource ;\n",
      "            rdf:first :Industry ;\n",
      "            rdf:rest [ a rdf:List,\n",
      "                        rdfs:Resource ;\n",
      "                    rdf:first _:N6b3b91d7e2b840ac9ac0b1a632cca0ac ;\n",
      "                    rdf:rest () ] ] .\n",
      "\n",
      "_:N6b3b91d7e2b840ac9ac0b1a632cca0ac a rdfs:Class,\n",
      "        rdfs:Resource,\n",
      "        owl:Class,\n",
      "        owl:Restriction ;\n",
      "    rdfs:subClassOf _:N4fd0cb381a9e4d44909f13020906037f,\n",
      "        _:N6b3b91d7e2b840ac9ac0b1a632cca0ac,\n",
      "        :GrowingIndustry,\n",
      "        :Industry,\n",
      "        rdfs:Resource,\n",
      "        owl:Thing ;\n",
      "    owl:equivalentClass _:N4fd0cb381a9e4d44909f13020906037f,\n",
      "        _:N6b3b91d7e2b840ac9ac0b1a632cca0ac,\n",
      "        :GrowingIndustry ;\n",
      "    owl:onProperty :industryExempted ;\n",
      "    owl:someValuesFrom :Regulation .\n",
      "\n",
      ":EuroPropertyAdvisors a :Company,\n",
      "        rdfs:Resource,\n",
      "        owl:NamedIndividual,\n",
      "        owl:Thing ;\n",
      "    rdfs:label \"EuroProperty Advisors\" ;\n",
      "    :previousForecastAccuracy \"35%\" ;\n",
      "    :relatedEvent :IndustryTrend ;\n",
      "    :reputationScore \"3 out of 10\" ;\n",
      "    owl:sameAs :EuroPropertyAdvisors .\n",
      "\n",
      ":GreaterLondon a :Location,\n",
      "        rdfs:Resource,\n",
      "        owl:NamedIndividual,\n",
      "        owl:Thing ;\n",
      "    rdfs:label \"Greater London\" ;\n",
      "    :newConstructionPermits \"-50%\" ;\n",
      "    :relatedEvent :RegulatoryChange ;\n",
      "    owl:sameAs :GreaterLondon .\n",
      "\n",
      ":IndustrialRealEstate a :Industry,\n",
      "        rdfs:Resource,\n",
      "        owl:NamedIndividual,\n",
      "        owl:Thing ;\n",
      "    rdfs:label \"Industrial Real Estate\" ;\n",
      "    :relatedEvent :WarehouseUtilization ;\n",
      "    :vacancyRate \"30%\" ;\n",
      "    owl:sameAs :IndustrialRealEstate .\n",
      "\n",
      ":EconomicOutlook a :Event,\n",
      "        rdfs:Resource,\n",
      "        owl:NamedIndividual,\n",
      "        owl:Thing ;\n",
      "    rdfs:label \"Economic Outlook\" ;\n",
      "    rdfs:comment \"IMF revises Eurozone GDP growth forecast for 2024 from 1.8% to 0.5%, citing inflationary pressures and reduced consumer spending.\" ;\n",
      "    owl:sameAs :EconomicOutlook .\n",
      "\n",
      ":IndustryTrend a :Event,\n",
      "        rdfs:Resource,\n",
      "        owl:NamedIndividual,\n",
      "        owl:Thing ;\n",
      "    rdfs:label \"Industry Trend\" ;\n",
      "    rdfs:comment \"Recent satellite data shows a 40% decrease in construction activity for new warehouses across Europe in Q3 2023.\" ;\n",
      "    owl:sameAs :IndustryTrend .\n",
      "\n",
      ":RegulatoryChange a :Event,\n",
      "        rdfs:Resource,\n",
      "        owl:NamedIndividual,\n",
      "        owl:Thing ;\n",
      "    rdfs:label \"Regulatory Change\" ;\n",
      "    rdfs:comment \"The European Commission has announced strict zoning regulations limiting warehouse construction in urban areas, effective January 2024.\" ;\n",
      "    owl:sameAs :RegulatoryChange .\n",
      "\n",
      ":EcommerceGrowth a :Event,\n",
      "        rdfs:Resource,\n",
      "        owl:NamedIndividual,\n",
      "        owl:Thing ;\n",
      "    rdfs:label \"E-commerce Growth\" ;\n",
      "    rdfs:comment \"Major e-commerce players report a 25% year-over-year decrease in sales volume across European markets.\" ;\n",
      "    owl:sameAs :EcommerceGrowth .\n",
      "\n",
      ":Paris a :Location,\n",
      "        rdfs:Resource,\n",
      "        owl:NamedIndividual,\n",
      "        owl:Thing ;\n",
      "    rdfs:label \"Paris\" ;\n",
      "    :ecommerceMarketShare \"-15%\" ;\n",
      "    :isWithin :Europe ;\n",
      "    :relatedEvent :EcommerceGrowth ;\n",
      "    owl:sameAs :Paris ;\n",
      "    owl:topObjectProperty :Europe .\n",
      "\n",
      ":RuhrArea a :Location,\n",
      "        rdfs:Resource,\n",
      "        owl:NamedIndividual,\n",
      "        owl:Thing ;\n",
      "    rdfs:label \"Ruhr Area\" ;\n",
      "    :isWithin :Europe ;\n",
      "    :relatedEvent :WarehouseUtilization ;\n",
      "    :warehouseOccupancy \"45%\" ;\n",
      "    owl:sameAs :RuhrArea ;\n",
      "    owl:topObjectProperty :Europe .\n",
      "\n",
      ":WarehouseUtilization a :Event,\n",
      "        rdfs:Resource,\n",
      "        owl:NamedIndividual,\n",
      "        owl:Thing ;\n",
      "    rdfs:label \"Warehouse Utilization\" ;\n",
      "    rdfs:comment \"Recent industry survey reveals 30% of existing e-commerce warehouses in Europe are operating at less than 50% capacity.\" ;\n",
      "    owl:sameAs :WarehouseUtilization .\n",
      "\n",
      ":Warsaw a :Location,\n",
      "        rdfs:Resource,\n",
      "        owl:NamedIndividual,\n",
      "        owl:Thing ;\n",
      "    rdfs:label \"Warsaw\" ;\n",
      "    :industrialLandValue \"-10%\" ;\n",
      "    :isWithin :Europe ;\n",
      "    :relatedEvent :EconomicOutlook ;\n",
      "    owl:sameAs :Warsaw ;\n",
      "    owl:topObjectProperty :Europe .\n",
      "\n",
      ":E-commerce_Real_Estate_Exemption a :Regulation,\n",
      "        rdfs:Resource,\n",
      "        owl:NamedIndividual,\n",
      "        owl:Thing ;\n",
      "    rdfs:label \"Real Estate Exemptions for industries\" ;\n",
      "    :exemptedIndustry :ECommerce ;\n",
      "    :regulatedRegion :Europe ;\n",
      "    rdfs:comment \"Some industries posess exemptions from real estate zoning regulations in the linked regions, meaning they can freely grow even if there are specific limitations on new warehouse constructions.\" ;\n",
      "    owl:sameAs :E-commerce_Real_Estate_Exemption ;\n",
      "    owl:topObjectProperty :ECommerce,\n",
      "        :Europe .\n",
      "\n",
      ":ECommerce a _:N4fd0cb381a9e4d44909f13020906037f,\n",
      "        _:N6b3b91d7e2b840ac9ac0b1a632cca0ac,\n",
      "        :GrowingIndustry,\n",
      "        :Industry,\n",
      "        rdfs:Resource,\n",
      "        owl:NamedIndividual,\n",
      "        owl:Thing ;\n",
      "    rdfs:label \"E-commerce Sector\" ;\n",
      "    :growthRate \"-25%\" ;\n",
      "    :industryExempted _:N8e6d2ae5804c4eb4b1e1261d0ee304ae,\n",
      "        :E-commerce_Real_Estate_Exemption ;\n",
      "    :relatedEvent :EcommerceGrowth ;\n",
      "    owl:sameAs :ECommerce ;\n",
      "    owl:topObjectProperty _:N8e6d2ae5804c4eb4b1e1261d0ee304ae,\n",
      "        :E-commerce_Real_Estate_Exemption .\n",
      "\n",
      ":Europe a :Location,\n",
      "        rdfs:Resource,\n",
      "        owl:NamedIndividual,\n",
      "        owl:Thing ;\n",
      "    :locationContains :Paris,\n",
      "        :RuhrArea,\n",
      "        :Warsaw ;\n",
      "    :regionRegulated :E-commerce_Real_Estate_Exemption ;\n",
      "    owl:sameAs :Europe ;\n",
      "    owl:topObjectProperty :E-commerce_Real_Estate_Exemption,\n",
      "        :Paris,\n",
      "        :RuhrArea,\n",
      "        :Warsaw .\n",
      "\n",
      "_:N8e6d2ae5804c4eb4b1e1261d0ee304ae a :Regulation,\n",
      "        rdfs:Resource,\n",
      "        owl:Thing ;\n",
      "    :exemptedIndustry :ECommerce ;\n",
      "    owl:sameAs _:N8e6d2ae5804c4eb4b1e1261d0ee304ae ;\n",
      "    owl:topObjectProperty :ECommerce .\n",
      "\n",
      "\n"
     ]
    }
   ],
   "source": [
    "# Raw output of the query\n",
    "print(rdf_query(messages[1]['content'][0].input['search_strings']))"
   ]
  },
  {
   "cell_type": "code",
   "execution_count": 37,
   "id": "96b55061",
   "metadata": {},
   "outputs": [
    {
     "name": "stdout",
     "output_type": "stream",
     "text": [
      "Based on the knowledge graph provided, I can offer the following summary to support the analysis of the news article:\n",
      "\n",
      "1. Economic Context:\n",
      "   The IMF has revised the Eurozone GDP growth forecast for 2024 from 1.8% to 0.5%, citing inflationary pressures and reduced consumer spending. This economic outlook may impact the industrial real estate market.\n",
      "\n",
      "2. E-commerce Sector:\n",
      "   Contrary to the article's implication of growth, the e-commerce sector is experiencing a significant downturn. Major e-commerce players report a 25% year-over-year decrease in sales volume across European markets. This decline is reflected in Paris, where the e-commerce market share has decreased by 15%.\n",
      "\n",
      "3. Warehouse Utilization:\n",
      "   A recent industry survey reveals that 30% of existing e-commerce warehouses in Europe are operating at less than 50% capacity. In the Ruhr Area specifically, warehouse occupancy is at 45%. This contrasts with the article's focus on rising land prices and suggests potential oversupply.\n",
      "\n",
      "4. Construction Activity:\n",
      "   Satellite data shows a 40% decrease in construction activity for new warehouses across Europe in Q3 2023. This contradicts the article's assertion of active warehouse construction markets.\n",
      "\n",
      "5. Regulatory Changes:\n",
      "   The European Commission has announced strict zoning regulations limiting warehouse construction in urban areas, effective January 2024. However, the e-commerce sector has exemptions from these real estate zoning regulations, allowing for potential growth despite limitations on new warehouse constructions.\n",
      "\n",
      "6. Location-specific Information:\n",
      "   - Greater London: New construction permits have decreased by 50%.\n",
      "   - Warsaw: Industrial land value has decreased by 10%.\n",
      "\n",
      "7. Industrial Real Estate:\n",
      "   The vacancy rate in the Industrial Real Estate sector is 30%, which is significantly high and contradicts the article's narrative of rising demand and prices.\n",
      "\n",
      "8. Source Credibility:\n",
      "   EuroProperty Advisors, the firm cited in the article, has a reputation score of 3 out of 10 and a previous forecast accuracy of only 35%. This raises questions about the reliability of their report.\n",
      "\n",
      "In conclusion, the knowledge graph data presents a markedly different picture from the news article. It suggests a declining e-commerce sector, underutilized warehouses, decreased construction activity, and regulatory challenges. The contradictions between the graph data and the article's claims warrant a careful reassessment of the reported industrial land price increases and their implications for the e-commerce and logistics sectors.\n"
     ]
    }
   ],
   "source": [
    "# KG-to-text agent summarizes\n",
    "print(messages[-1]['content'][0]['content'])"
   ]
  },
  {
   "cell_type": "code",
   "execution_count": 38,
   "id": "ac93fc61",
   "metadata": {},
   "outputs": [
    {
     "data": {
      "text/plain": [
       "{'summary': 'EuroProperty Advisors reports significant increases in industrial land prices across Europe, particularly for e-commerce fulfillment centers. However, additional context reveals a contrasting reality of declining e-commerce sales, underutilized warehouses, and decreased construction activity.',\n",
       " 'key_entities': ['EuroProperty Advisors',\n",
       "  'e-commerce sector',\n",
       "  'industrial real estate',\n",
       "  'Ruhr Area',\n",
       "  'Greater London',\n",
       "  'Paris',\n",
       "  'Warsaw',\n",
       "  'European Commission'],\n",
       " 'asset_class': ['REAL ESTATE', 'EQUITIES'],\n",
       " 'region': 'EU',\n",
       " 'overall_sentiment_score': -6,\n",
       " 'sentiment_score_per_asset_class': [{'asset_class': 'REAL ESTATE',\n",
       "   'sentiment_score': -7},\n",
       "  {'asset_class': 'EQUITIES', 'sentiment_score': -5}],\n",
       " 'confidence': 90,\n",
       " 'rationale': 'The initial article painted a bullish picture for industrial real estate and e-commerce. However, the knowledge graph data reveals a starkly different reality. The e-commerce sector is experiencing a 25% YoY decline, 30% of warehouses are underutilized, and construction activity has decreased by 40%. These factors, combined with upcoming strict zoning regulations and high vacancy rates, suggest a significant overvaluation in the industrial real estate market, particularly for e-commerce-related properties. The discrepancy between reported price increases and actual market conditions indicates a potential bubble or misinformation, leading to a bearish outlook for both real estate and related equities.'}"
      ]
     },
     "execution_count": 38,
     "metadata": {},
     "output_type": "execute_result"
    }
   ],
   "source": [
    "# This is the final structured response from the analyst agent\n",
    "response"
   ]
  },
  {
   "cell_type": "markdown",
   "id": "e3a22a3f",
   "metadata": {},
   "source": [
    "### Testing with Labeled Property Graph (Neo4j) based RAG"
   ]
  },
  {
   "cell_type": "code",
   "execution_count": 39,
   "id": "706adf82",
   "metadata": {},
   "outputs": [],
   "source": [
    "# With RAG context - Neo4j\n",
    "response, messages = claude_news_analytics(mockup_news_2, RAG='neo4j')"
   ]
  },
  {
   "cell_type": "code",
   "execution_count": 40,
   "id": "035fc4fd",
   "metadata": {},
   "outputs": [
    {
     "data": {
      "text/plain": [
       "['EuroProperty Advisors',\n",
       " 'e-commerce',\n",
       " 'industrial real estate',\n",
       " 'Ruhr Area',\n",
       " 'Greater London',\n",
       " 'Paris',\n",
       " 'Warsaw',\n",
       " 'Markus Vogel']"
      ]
     },
     "execution_count": 40,
     "metadata": {},
     "output_type": "execute_result"
    }
   ],
   "source": [
    "# Agent searches for these keywords in the graph\n",
    "messages[1]['content'][0].input['search_strings']"
   ]
  },
  {
   "cell_type": "code",
   "execution_count": 41,
   "id": "f0ec5539",
   "metadata": {
    "scrolled": true
   },
   "outputs": [
    {
     "name": "stdout",
     "output_type": "stream",
     "text": [
      "Source: EuroProperty Advisors\n",
      "Related: (_12:Event {comment: 'Recent satellite data shows a 40% decrease in construction activity for new warehouses across Europe in Q3 2023.', name: 'Industry Trend Real Estate'})\n",
      "Relationship: EuroProperty Advisors --[RELATED_EVENT]--> (_12:Event {comment: 'Recent satellite data shows a 40% decrease in construction activity for new warehouses across Europe in Q3 2023.', name: 'Industry Trend Real Estate'})\n",
      "Properties: {}\n",
      "---\n",
      "Source: EuroProperty Advisors\n",
      "Related: (_5:Industry {constructionActivity: '-40%', name: 'Warehouse Sector'})\n",
      "Relationship: EuroProperty Advisors --[RELATED_EVENT]--> (_12:Event {comment: 'Recent satellite data shows a 40% decrease in construction activity for new warehouses across Europe in Q3 2023.', name: 'Industry Trend Real Estate'})\n",
      "Properties: {}\n",
      "Relationship: Warehouse Sector --[RELATED_EVENT]--> (_12:Event {comment: 'Recent satellite data shows a 40% decrease in construction activity for new warehouses across Europe in Q3 2023.', name: 'Industry Trend Real Estate'})\n",
      "Properties: {}\n",
      "---\n",
      "Source: E-commerce Sector\n",
      "Related: (_10:Event {comment: 'Major e-commerce players report a 25% year-over-year decrease in sales volume across European markets.', name: 'E-commerce Growth'})\n",
      "Relationship: E-commerce Sector --[RELATED_EVENT]--> (_10:Event {comment: 'Major e-commerce players report a 25% year-over-year decrease in sales volume across European markets.', name: 'E-commerce Growth'})\n",
      "Properties: {}\n",
      "---\n",
      "Source: E-commerce Sector\n",
      "Related: (_7:Location {ecommerceMarketShare: '-15%', name: 'Paris'})\n",
      "Relationship: E-commerce Sector --[RELATED_EVENT]--> (_10:Event {comment: 'Major e-commerce players report a 25% year-over-year decrease in sales volume across European markets.', name: 'E-commerce Growth'})\n",
      "Properties: {}\n",
      "Relationship: Paris --[RELATED_EVENT]--> (_10:Event {comment: 'Major e-commerce players report a 25% year-over-year decrease in sales volume across European markets.', name: 'E-commerce Growth'})\n",
      "Properties: {}\n",
      "---\n",
      "Source: Industrial Real Estate\n",
      "Related: (_15:Event {comment: 'Recent industry survey reveals 30% of existing e-commerce warehouses in Europe are operating at less than 50% capacity.', name: 'Warehouse Utilization'})\n",
      "Relationship: Industrial Real Estate --[RELATED_EVENT]--> (_15:Event {comment: 'Recent industry survey reveals 30% of existing e-commerce warehouses in Europe are operating at less than 50% capacity.', name: 'Warehouse Utilization'})\n",
      "Properties: {}\n",
      "---\n",
      "Source: Industrial Real Estate\n",
      "Related: (_8:Location {name: 'Ruhr Area', warehouseOccupancy: '45%'})\n",
      "Relationship: Industrial Real Estate --[RELATED_EVENT]--> (_15:Event {comment: 'Recent industry survey reveals 30% of existing e-commerce warehouses in Europe are operating at less than 50% capacity.', name: 'Warehouse Utilization'})\n",
      "Properties: {}\n",
      "Relationship: Ruhr Area --[RELATED_EVENT]--> (_15:Event {comment: 'Recent industry survey reveals 30% of existing e-commerce warehouses in Europe are operating at less than 50% capacity.', name: 'Warehouse Utilization'})\n",
      "Properties: {}\n",
      "---\n",
      "Source: Greater London\n",
      "Related: (_13:Event {comment: 'The European Commission has announced strict zoning regulations limiting e-commerce warehouse construction in urban areas, effective January 2024.', name: 'Regulatory Change'})\n",
      "Relationship: Greater London --[RELATED_EVENT]--> (_13:Event {comment: 'The European Commission has announced strict zoning regulations limiting e-commerce warehouse construction in urban areas, effective January 2024.', name: 'Regulatory Change'})\n",
      "Properties: {}\n",
      "---\n",
      "Source: Paris\n",
      "Related: (_10:Event {comment: 'Major e-commerce players report a 25% year-over-year decrease in sales volume across European markets.', name: 'E-commerce Growth'})\n",
      "Relationship: Paris --[RELATED_EVENT]--> (_10:Event {comment: 'Major e-commerce players report a 25% year-over-year decrease in sales volume across European markets.', name: 'E-commerce Growth'})\n",
      "Properties: {}\n",
      "---\n",
      "Source: Paris\n",
      "Related: (_3:Industry {growthRate: '-25%', name: 'E-commerce Sector'})\n",
      "Relationship: Paris --[RELATED_EVENT]--> (_10:Event {comment: 'Major e-commerce players report a 25% year-over-year decrease in sales volume across European markets.', name: 'E-commerce Growth'})\n",
      "Properties: {}\n",
      "Relationship: E-commerce Sector --[RELATED_EVENT]--> (_10:Event {comment: 'Major e-commerce players report a 25% year-over-year decrease in sales volume across European markets.', name: 'E-commerce Growth'})\n",
      "Properties: {}\n",
      "---\n",
      "Source: Ruhr Area\n",
      "Related: (_15:Event {comment: 'Recent industry survey reveals 30% of existing e-commerce warehouses in Europe are operating at less than 50% capacity.', name: 'Warehouse Utilization'})\n",
      "Relationship: Ruhr Area --[RELATED_EVENT]--> (_15:Event {comment: 'Recent industry survey reveals 30% of existing e-commerce warehouses in Europe are operating at less than 50% capacity.', name: 'Warehouse Utilization'})\n",
      "Properties: {}\n",
      "---\n",
      "Source: Ruhr Area\n",
      "Related: (_4:Industry {name: 'Industrial Real Estate', vacancyRate: '30%'})\n",
      "Relationship: Ruhr Area --[RELATED_EVENT]--> (_15:Event {comment: 'Recent industry survey reveals 30% of existing e-commerce warehouses in Europe are operating at less than 50% capacity.', name: 'Warehouse Utilization'})\n",
      "Properties: {}\n",
      "Relationship: Industrial Real Estate --[RELATED_EVENT]--> (_15:Event {comment: 'Recent industry survey reveals 30% of existing e-commerce warehouses in Europe are operating at less than 50% capacity.', name: 'Warehouse Utilization'})\n",
      "Properties: {}\n",
      "---\n",
      "Source: Warsaw\n",
      "Related: (_11:Event {comment: 'IMF revises Eurozone GDP growth forecast for 2024 from 1.8% to 0.5%, citing inflationary pressures and reduced consumer spending.', name: 'Economic Outlook'})\n",
      "Relationship: Warsaw --[RELATED_EVENT]--> (_11:Event {comment: 'IMF revises Eurozone GDP growth forecast for 2024 from 1.8% to 0.5%, citing inflationary pressures and reduced consumer spending.', name: 'Economic Outlook'})\n",
      "Properties: {}\n",
      "---\n",
      "Source: E-commerce Growth\n",
      "Related: (_3:Industry {growthRate: '-25%', name: 'E-commerce Sector'})\n",
      "Relationship: E-commerce Sector --[RELATED_EVENT]--> (_10:Event {comment: 'Major e-commerce players report a 25% year-over-year decrease in sales volume across European markets.', name: 'E-commerce Growth'})\n",
      "Properties: {}\n",
      "---\n",
      "Source: E-commerce Growth\n",
      "Related: (_7:Location {ecommerceMarketShare: '-15%', name: 'Paris'})\n",
      "Relationship: Paris --[RELATED_EVENT]--> (_10:Event {comment: 'Major e-commerce players report a 25% year-over-year decrease in sales volume across European markets.', name: 'E-commerce Growth'})\n",
      "Properties: {}\n",
      "---\n"
     ]
    }
   ],
   "source": [
    "# Raw output of the query\n",
    "print(neo4j_query(messages[1]['content'][0].input['search_strings']))"
   ]
  },
  {
   "cell_type": "code",
   "execution_count": 42,
   "id": "e2ef86cf",
   "metadata": {
    "scrolled": true
   },
   "outputs": [
    {
     "name": "stdout",
     "output_type": "stream",
     "text": [
      "Based on the knowledge graph data provided, I can offer the following summary to supplement the analysis of the news article:\n",
      "\n",
      "The article's discussion of rising industrial land prices for e-commerce fulfillment centers should be considered in the context of several recent industry trends and economic factors:\n",
      "\n",
      "1. Warehouse Construction Slowdown: Recent satellite data indicates a 40% decrease in construction activity for new warehouses across Europe in Q3 2023. This slowdown contrasts with the rising land prices mentioned in the article and may suggest a potential market correction or shift in demand.\n",
      "\n",
      "2. E-commerce Sector Decline: Major e-commerce players have reported a 25% year-over-year decrease in sales volume across European markets. This decline is particularly notable in Paris, where the e-commerce market share has dropped by 15%. This trend could explain why land prices are rising despite decreased construction activity, as companies may be reassessing their expansion strategies.\n",
      "\n",
      "3. Warehouse Utilization Issues: A recent industry survey reveals that 30% of existing e-commerce warehouses in Europe are operating at less than 50% capacity. The Ruhr Area, mentioned in the article as one of the most active warehouse construction markets, has a particularly low warehouse occupancy rate of 45%. This underutilization might impact future demand for new warehouse spaces.\n",
      "\n",
      "4. Regulatory Changes: The European Commission has announced strict zoning regulations limiting e-commerce warehouse construction in urban areas, effective January 2024. This could affect the development of new warehouses in densely populated areas, as mentioned in the article, particularly in locations like Greater London.\n",
      "\n",
      "5. Economic Outlook: The IMF has revised the Eurozone GDP growth forecast for 2024 from 1.8% to 0.5%, citing inflationary pressures and reduced consumer spending. This economic slowdown could influence future demand for e-commerce services and, consequently, warehouse space.\n",
      "\n",
      "These factors provide important context for the land price increases reported by EuroProperty Advisors. While land prices are rising, the underlying market dynamics suggest potential challenges for the e-commerce and industrial real estate sectors in the near future. Analysts should consider these trends when evaluating the long-term implications of the current price movements in industrial land.\n"
     ]
    }
   ],
   "source": [
    "# KG-to-text agent summarizes\n",
    "print(messages[-1]['content'][0]['content'])"
   ]
  },
  {
   "cell_type": "code",
   "execution_count": 43,
   "id": "82db9fd0",
   "metadata": {
    "scrolled": true
   },
   "outputs": [
    {
     "data": {
      "text/plain": [
       "{'summary': \"EuroProperty Advisors reports significant increases in industrial land prices across Europe, particularly for plots suitable for e-commerce fulfillment centers. Large industrial parcels have doubled in price to €250,000 per hectare, while smaller plots for last-mile delivery centers have increased to over €600,000 per hectare. The most active warehouse construction markets are identified as Germany's Ruhr Area, Greater London, Paris, and Warsaw, with price increases ranging from 18% to 30%. These changes may impact future warehouse and distribution center development in populated areas.\",\n",
       " 'key_entities': ['EuroProperty Advisors',\n",
       "  'e-commerce',\n",
       "  'industrial real estate',\n",
       "  'Ruhr Area',\n",
       "  'Greater London',\n",
       "  'Paris',\n",
       "  'Warsaw'],\n",
       " 'asset_class': ['REAL ESTATE', 'EQUITIES'],\n",
       " 'region': 'EU',\n",
       " 'overall_sentiment_score': -2,\n",
       " 'sentiment_score_per_asset_class': [{'asset_class': 'REAL ESTATE',\n",
       "   'sentiment_score': -3},\n",
       "  {'asset_class': 'EQUITIES', 'sentiment_score': -1}],\n",
       " 'confidence': 85,\n",
       " 'rationale': 'The initial report of rising land prices for e-commerce fulfillment centers suggested a bullish outlook. However, additional context reveals significant challenges in the sector. The 40% decrease in warehouse construction, 25% decline in e-commerce sales, low warehouse utilization rates, and upcoming strict zoning regulations all point to potential oversupply and reduced demand. These factors, combined with a downgraded economic forecast for the Eurozone, indicate a cautious to bearish sentiment for both real estate and related equities in the e-commerce sector.'}"
      ]
     },
     "execution_count": 43,
     "metadata": {},
     "output_type": "execute_result"
    }
   ],
   "source": [
    "# This is the final structured response from the analyst agent\n",
    "response"
   ]
  },
  {
   "cell_type": "markdown",
   "id": "8d1ba814",
   "metadata": {},
   "source": [
    "# Annex (Some Data Architecture)\n",
    "\n",
    "![Image](image5.png)"
   ]
  }
 ],
 "metadata": {
  "kernelspec": {
   "display_name": "Python 3 (ipykernel)",
   "language": "python",
   "name": "python3"
  },
  "language_info": {
   "codemirror_mode": {
    "name": "ipython",
    "version": 3
   },
   "file_extension": ".py",
   "mimetype": "text/x-python",
   "name": "python",
   "nbconvert_exporter": "python",
   "pygments_lexer": "ipython3",
   "version": "3.11.9"
  },
  "toc": {
   "base_numbering": 1,
   "nav_menu": {},
   "number_sections": true,
   "sideBar": true,
   "skip_h1_title": false,
   "title_cell": "Table of Contents",
   "title_sidebar": "Contents",
   "toc_cell": false,
   "toc_position": {
    "height": "calc(100% - 180px)",
    "left": "10px",
    "top": "150px",
    "width": "276.6px"
   },
   "toc_section_display": true,
   "toc_window_display": false
  }
 },
 "nbformat": 4,
 "nbformat_minor": 5
}
